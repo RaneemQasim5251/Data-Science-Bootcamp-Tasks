{
  "cells": [
    {
      "cell_type": "markdown",
      "metadata": {
        "id": "x7F-mxeubDUG"
      },
      "source": [
        "# Python_Lab_2.1\n"
      ]
    },
    {
      "cell_type": "markdown",
      "metadata": {
        "id": "14c6Hn1BbDUH"
      },
      "source": [
        "### Task 1\n",
        "1. Write a function named is_prime that takes a number as a parameter and returns True if the number is prime and False otherwise. Print whether the number 29 is prime."
      ]
    },
    {
      "cell_type": "code",
      "execution_count": 2,
      "metadata": {
        "id": "5e_MZEN0bDUI",
        "colab": {
          "base_uri": "https://localhost:8080/"
        },
        "outputId": "290c395a-708b-4b32-e3b2-f9282a3f1415"
      },
      "outputs": [
        {
          "output_type": "stream",
          "name": "stdout",
          "text": [
            "29 is prime\n"
          ]
        }
      ],
      "source": [
        "def is_prime(num):\n",
        "    if num <= 1:\n",
        "        return False\n",
        "    for n in range(2, int(num ** 0.5) + 1):\n",
        "        if num % n == 0:\n",
        "            return False\n",
        "    return True\n",
        "\n",
        "number = 29\n",
        "if is_prime(number):\n",
        "    print(f\"{number} is prime\")\n",
        "else:\n",
        "    print(f\"{number} is not prime\")"
      ]
    },
    {
      "cell_type": "markdown",
      "metadata": {
        "id": "2zKG8ZcybDUI"
      },
      "source": [
        "### Task 2\n",
        "1. Create a list of 10 numbers and sort them in descending order using the sort() function.\n",
        "2. Use the len() function to print the length of the sorted list.\n",
        "3. Use the zip() function to combine three lists (names, ages, and cities) into a list of tuples.\n",
        "4. Use the range() function to create a list of even numbers from 2 to 20 and print the list."
      ]
    },
    {
      "cell_type": "code",
      "execution_count": 7,
      "metadata": {
        "id": "yyoe__M_bDUI",
        "colab": {
          "base_uri": "https://localhost:8080/"
        },
        "outputId": "82a094ae-3d98-4118-90fc-f701fb87e5d8"
      },
      "outputs": [
        {
          "output_type": "stream",
          "name": "stdout",
          "text": [
            "Sorted (desc): [12, 10, 9, 8, 7, 5, 4, 3, 2, 1]\n",
            "Length: 10\n",
            "Combined: [('Raneem', 24, 'Riyadh'), ('Qamar', 20, 'Jeddah'), ('Salwa', 17, 'Dammam')]\n",
            "Evens 2–20: [2, 4, 6, 8, 10, 12, 14, 16, 18, 20]\n"
          ]
        }
      ],
      "source": [
        "numbers = [5, 12, 3, 7, 1, 9, 8, 2, 10, 4]\n",
        "numbers.sort(reverse=True)\n",
        "print(\"Sorted (desc):\", numbers)\n",
        "\n",
        "print(\"Length:\", len(numbers))\n",
        "\n",
        "names  = [\"Raneem\", \"Qamar\", \"Salwa\"]\n",
        "ages   = [24,     20,    17]\n",
        "cities = [\"Riyadh\",\"Jeddah\",\"Dammam\"]\n",
        "combined = list(zip(names, ages, cities))\n",
        "print(\"Combined:\", combined)\n",
        "\n",
        "evens = list(range(2, 21, 2))\n",
        "print(\"Evens 2–20:\", evens)\n"
      ]
    },
    {
      "cell_type": "markdown",
      "metadata": {
        "id": "aStW5p7AbDUI"
      },
      "source": [
        "### Task 3\n",
        "Build a phone book program that receives the phone number, and returns the name of the owner.\n",
        "You can follow the table below:\n",
        "\n",
        "| Name     | Number     |\n",
        "| -------- | ---------- |\n",
        "| Amal     | 1111111111 |\n",
        "| Mohammed | 2222222222 |\n",
        "| Khadijah | 3333333333 |\n",
        "| Abdullah | 4444444444 |\n",
        "| Rawan    | 5555555555 |\n",
        "| Faisal   | 6666666666 |\n",
        "| Layla    | 7777777777 |\n",
        "\n",
        "- If the number exists, print the owner. Otherwise, print \"Sorry, the number is not found\".\n",
        "- If the number is less or more than 10 numbers, print \"This is invalid number\".\n",
        "- If the number contains letters or symbols, print \"This is invalid number\".\n"
      ]
    },
    {
      "cell_type": "code",
      "execution_count": 11,
      "metadata": {
        "id": "kvXmjUe-bDUJ",
        "colab": {
          "base_uri": "https://localhost:8080/"
        },
        "outputId": "cb9e55bd-f5d3-4ada-db1a-6a5e79f5450b"
      },
      "outputs": [
        {
          "output_type": "stream",
          "name": "stdout",
          "text": [
            "Enter phone number: 0543217431\n",
            "Sorry, the number is not found\n"
          ]
        }
      ],
      "source": [
        "phonebook = {\n",
        "    \"1111111111\": \"Amal\",\n",
        "    \"2222222222\": \"Mohammed\",\n",
        "    \"3333333333\": \"Khadijah\",\n",
        "    \"4444444444\": \"Abdullah\",\n",
        "    \"5555555555\": \"Rawan\",\n",
        "    \"6666666666\": \"Faisal\",\n",
        "    \"7777777777\": \"Layla\",\n",
        "}\n",
        "\n",
        "number = input(\"Enter phone number: \")\n",
        "\n",
        "if not number.isdigit() or len(number) != 10:\n",
        "    print(\"This is invalid number\")\n",
        "elif number in phonebook:\n",
        "    print(phonebook[number])\n",
        "else:\n",
        "    print(\"Sorry, the number is not found\")\n"
      ]
    },
    {
      "cell_type": "markdown",
      "metadata": {
        "id": "exLHQ28nbDUJ"
      },
      "source": [
        "### Task 4\n",
        "- Given the following list : [5, 4, 17, 19, 30, 2, 7, 10, 45]\n",
        "    1. Use a lambda function to filter out only the odd numbers.\n",
        "    2. Print the new list of odd numbers."
      ]
    },
    {
      "cell_type": "code",
      "execution_count": 13,
      "metadata": {
        "id": "64SUsh1cbDUJ",
        "colab": {
          "base_uri": "https://localhost:8080/"
        },
        "outputId": "a19b8c5a-c8ee-420e-e767-59665f485db0"
      },
      "outputs": [
        {
          "output_type": "stream",
          "name": "stdout",
          "text": [
            "Odd numbers: [5, 17, 19, 7, 45]\n"
          ]
        }
      ],
      "source": [
        "numbers = [5, 4, 17, 19, 30, 2, 7, 10, 45]\n",
        "odds = list(filter(lambda x: x % 2 != 0, numbers))\n",
        "print(\"Odd numbers:\", odds)"
      ]
    }
  ],
  "metadata": {
    "kernelspec": {
      "display_name": "Python 3",
      "language": "python",
      "name": "python3"
    },
    "language_info": {
      "codemirror_mode": {
        "name": "ipython",
        "version": 3
      },
      "file_extension": ".py",
      "mimetype": "text/x-python",
      "name": "python",
      "nbconvert_exporter": "python",
      "pygments_lexer": "ipython3",
      "version": "3.9.12"
    },
    "colab": {
      "provenance": []
    }
  },
  "nbformat": 4,
  "nbformat_minor": 0
}