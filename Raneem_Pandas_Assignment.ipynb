{
  "cells": [
    {
      "cell_type": "markdown",
      "id": "9a74bc80",
      "metadata": {
        "id": "9a74bc80"
      },
      "source": [
        "# Q1: Import pandas library"
      ]
    },
    {
      "cell_type": "code",
      "execution_count": null,
      "id": "3d77e070",
      "metadata": {
        "id": "3d77e070"
      },
      "outputs": [],
      "source": [
        "# write your code here ^_^\n",
        "import pandas as pd"
      ]
    },
    {
      "cell_type": "markdown",
      "id": "11029d8d",
      "metadata": {
        "id": "11029d8d"
      },
      "source": [
        "# Q2: Read instagram_users.csv file"
      ]
    },
    {
      "cell_type": "code",
      "execution_count": null,
      "id": "416acbaa",
      "metadata": {
        "id": "416acbaa",
        "colab": {
          "base_uri": "https://localhost:8080/",
          "height": 423
        },
        "outputId": "16dd9e5b-a7bc-4382-f8d9-e9f2adfb953a"
      },
      "outputs": [
        {
          "output_type": "execute_result",
          "data": {
            "text/plain": [
              "        pos   flw   flg   bl  pic  lin   cl        cz     ni        erl   erc  \\\n",
              "0        44    48   325   33    1    0   12  0.000000  0.000   0.000000  0.00   \n",
              "1        10    66   321  150    1    0  213  0.000000  1.000  14.390000  1.97   \n",
              "2        33   970   308  101    1    1  436  0.000000  1.000  10.100000  0.30   \n",
              "3        70    86   360   14    1    0    0  1.000000  0.000   0.780000  0.06   \n",
              "4         3    21   285   73    1    0   93  0.000000  0.000  14.290000  0.00   \n",
              "...     ...   ...   ...  ...  ...  ...  ...       ...    ...        ...   ...   \n",
              "65321    13   145   642    0    1    0    7  0.461538  0.000  14.270000  0.58   \n",
              "65322   652  3000  1300  146    1    1  384  0.000000  0.389   8.520000  0.13   \n",
              "65323  1500  3700  3200  147    1    1  129  0.000000  0.111   9.390000  0.31   \n",
              "65324   329  1500  1800  218    1    1  290  0.055556  0.000   6.350000  0.26   \n",
              "65325   206   659   608   27    1    0   77  0.000000  0.333  25.549999  0.53   \n",
              "\n",
              "          lt     hc   pr     fo        cs           pi class  \n",
              "0      0.000  0.000  0.0  0.000  0.111111     0.094985     f  \n",
              "1      0.000  1.500  0.0  0.000  0.206826   230.412857     f  \n",
              "2      0.000  2.500  0.0  0.056  0.572174    43.569939     f  \n",
              "3      0.000  0.000  0.0  0.000  1.000000     5.859799     f  \n",
              "4      0.667  0.000  0.0  0.000  0.300494     0.126019     f  \n",
              "...      ...    ...  ...    ...       ...          ...   ...  \n",
              "65321  0.000  0.077  0.0  0.000  0.192308  1745.291260     r  \n",
              "65322  0.000  1.611  0.0  0.000  0.169917    54.629120     r  \n",
              "65323  0.722  0.000  0.0  0.056  0.058908   129.802048     r  \n",
              "65324  0.222  0.500  0.0  0.000  0.103174    53.402840     r  \n",
              "65325  0.222  0.222  0.0  0.167  0.017505   604.981445     r  \n",
              "\n",
              "[65326 rows x 18 columns]"
            ],
            "text/html": [
              "\n",
              "  <div id=\"df-09e1172c-ea05-4210-927c-2682da84596f\" class=\"colab-df-container\">\n",
              "    <div>\n",
              "<style scoped>\n",
              "    .dataframe tbody tr th:only-of-type {\n",
              "        vertical-align: middle;\n",
              "    }\n",
              "\n",
              "    .dataframe tbody tr th {\n",
              "        vertical-align: top;\n",
              "    }\n",
              "\n",
              "    .dataframe thead th {\n",
              "        text-align: right;\n",
              "    }\n",
              "</style>\n",
              "<table border=\"1\" class=\"dataframe\">\n",
              "  <thead>\n",
              "    <tr style=\"text-align: right;\">\n",
              "      <th></th>\n",
              "      <th>pos</th>\n",
              "      <th>flw</th>\n",
              "      <th>flg</th>\n",
              "      <th>bl</th>\n",
              "      <th>pic</th>\n",
              "      <th>lin</th>\n",
              "      <th>cl</th>\n",
              "      <th>cz</th>\n",
              "      <th>ni</th>\n",
              "      <th>erl</th>\n",
              "      <th>erc</th>\n",
              "      <th>lt</th>\n",
              "      <th>hc</th>\n",
              "      <th>pr</th>\n",
              "      <th>fo</th>\n",
              "      <th>cs</th>\n",
              "      <th>pi</th>\n",
              "      <th>class</th>\n",
              "    </tr>\n",
              "  </thead>\n",
              "  <tbody>\n",
              "    <tr>\n",
              "      <th>0</th>\n",
              "      <td>44</td>\n",
              "      <td>48</td>\n",
              "      <td>325</td>\n",
              "      <td>33</td>\n",
              "      <td>1</td>\n",
              "      <td>0</td>\n",
              "      <td>12</td>\n",
              "      <td>0.000000</td>\n",
              "      <td>0.000</td>\n",
              "      <td>0.000000</td>\n",
              "      <td>0.00</td>\n",
              "      <td>0.000</td>\n",
              "      <td>0.000</td>\n",
              "      <td>0.0</td>\n",
              "      <td>0.000</td>\n",
              "      <td>0.111111</td>\n",
              "      <td>0.094985</td>\n",
              "      <td>f</td>\n",
              "    </tr>\n",
              "    <tr>\n",
              "      <th>1</th>\n",
              "      <td>10</td>\n",
              "      <td>66</td>\n",
              "      <td>321</td>\n",
              "      <td>150</td>\n",
              "      <td>1</td>\n",
              "      <td>0</td>\n",
              "      <td>213</td>\n",
              "      <td>0.000000</td>\n",
              "      <td>1.000</td>\n",
              "      <td>14.390000</td>\n",
              "      <td>1.97</td>\n",
              "      <td>0.000</td>\n",
              "      <td>1.500</td>\n",
              "      <td>0.0</td>\n",
              "      <td>0.000</td>\n",
              "      <td>0.206826</td>\n",
              "      <td>230.412857</td>\n",
              "      <td>f</td>\n",
              "    </tr>\n",
              "    <tr>\n",
              "      <th>2</th>\n",
              "      <td>33</td>\n",
              "      <td>970</td>\n",
              "      <td>308</td>\n",
              "      <td>101</td>\n",
              "      <td>1</td>\n",
              "      <td>1</td>\n",
              "      <td>436</td>\n",
              "      <td>0.000000</td>\n",
              "      <td>1.000</td>\n",
              "      <td>10.100000</td>\n",
              "      <td>0.30</td>\n",
              "      <td>0.000</td>\n",
              "      <td>2.500</td>\n",
              "      <td>0.0</td>\n",
              "      <td>0.056</td>\n",
              "      <td>0.572174</td>\n",
              "      <td>43.569939</td>\n",
              "      <td>f</td>\n",
              "    </tr>\n",
              "    <tr>\n",
              "      <th>3</th>\n",
              "      <td>70</td>\n",
              "      <td>86</td>\n",
              "      <td>360</td>\n",
              "      <td>14</td>\n",
              "      <td>1</td>\n",
              "      <td>0</td>\n",
              "      <td>0</td>\n",
              "      <td>1.000000</td>\n",
              "      <td>0.000</td>\n",
              "      <td>0.780000</td>\n",
              "      <td>0.06</td>\n",
              "      <td>0.000</td>\n",
              "      <td>0.000</td>\n",
              "      <td>0.0</td>\n",
              "      <td>0.000</td>\n",
              "      <td>1.000000</td>\n",
              "      <td>5.859799</td>\n",
              "      <td>f</td>\n",
              "    </tr>\n",
              "    <tr>\n",
              "      <th>4</th>\n",
              "      <td>3</td>\n",
              "      <td>21</td>\n",
              "      <td>285</td>\n",
              "      <td>73</td>\n",
              "      <td>1</td>\n",
              "      <td>0</td>\n",
              "      <td>93</td>\n",
              "      <td>0.000000</td>\n",
              "      <td>0.000</td>\n",
              "      <td>14.290000</td>\n",
              "      <td>0.00</td>\n",
              "      <td>0.667</td>\n",
              "      <td>0.000</td>\n",
              "      <td>0.0</td>\n",
              "      <td>0.000</td>\n",
              "      <td>0.300494</td>\n",
              "      <td>0.126019</td>\n",
              "      <td>f</td>\n",
              "    </tr>\n",
              "    <tr>\n",
              "      <th>...</th>\n",
              "      <td>...</td>\n",
              "      <td>...</td>\n",
              "      <td>...</td>\n",
              "      <td>...</td>\n",
              "      <td>...</td>\n",
              "      <td>...</td>\n",
              "      <td>...</td>\n",
              "      <td>...</td>\n",
              "      <td>...</td>\n",
              "      <td>...</td>\n",
              "      <td>...</td>\n",
              "      <td>...</td>\n",
              "      <td>...</td>\n",
              "      <td>...</td>\n",
              "      <td>...</td>\n",
              "      <td>...</td>\n",
              "      <td>...</td>\n",
              "      <td>...</td>\n",
              "    </tr>\n",
              "    <tr>\n",
              "      <th>65321</th>\n",
              "      <td>13</td>\n",
              "      <td>145</td>\n",
              "      <td>642</td>\n",
              "      <td>0</td>\n",
              "      <td>1</td>\n",
              "      <td>0</td>\n",
              "      <td>7</td>\n",
              "      <td>0.461538</td>\n",
              "      <td>0.000</td>\n",
              "      <td>14.270000</td>\n",
              "      <td>0.58</td>\n",
              "      <td>0.000</td>\n",
              "      <td>0.077</td>\n",
              "      <td>0.0</td>\n",
              "      <td>0.000</td>\n",
              "      <td>0.192308</td>\n",
              "      <td>1745.291260</td>\n",
              "      <td>r</td>\n",
              "    </tr>\n",
              "    <tr>\n",
              "      <th>65322</th>\n",
              "      <td>652</td>\n",
              "      <td>3000</td>\n",
              "      <td>1300</td>\n",
              "      <td>146</td>\n",
              "      <td>1</td>\n",
              "      <td>1</td>\n",
              "      <td>384</td>\n",
              "      <td>0.000000</td>\n",
              "      <td>0.389</td>\n",
              "      <td>8.520000</td>\n",
              "      <td>0.13</td>\n",
              "      <td>0.000</td>\n",
              "      <td>1.611</td>\n",
              "      <td>0.0</td>\n",
              "      <td>0.000</td>\n",
              "      <td>0.169917</td>\n",
              "      <td>54.629120</td>\n",
              "      <td>r</td>\n",
              "    </tr>\n",
              "    <tr>\n",
              "      <th>65323</th>\n",
              "      <td>1500</td>\n",
              "      <td>3700</td>\n",
              "      <td>3200</td>\n",
              "      <td>147</td>\n",
              "      <td>1</td>\n",
              "      <td>1</td>\n",
              "      <td>129</td>\n",
              "      <td>0.000000</td>\n",
              "      <td>0.111</td>\n",
              "      <td>9.390000</td>\n",
              "      <td>0.31</td>\n",
              "      <td>0.722</td>\n",
              "      <td>0.000</td>\n",
              "      <td>0.0</td>\n",
              "      <td>0.056</td>\n",
              "      <td>0.058908</td>\n",
              "      <td>129.802048</td>\n",
              "      <td>r</td>\n",
              "    </tr>\n",
              "    <tr>\n",
              "      <th>65324</th>\n",
              "      <td>329</td>\n",
              "      <td>1500</td>\n",
              "      <td>1800</td>\n",
              "      <td>218</td>\n",
              "      <td>1</td>\n",
              "      <td>1</td>\n",
              "      <td>290</td>\n",
              "      <td>0.055556</td>\n",
              "      <td>0.000</td>\n",
              "      <td>6.350000</td>\n",
              "      <td>0.26</td>\n",
              "      <td>0.222</td>\n",
              "      <td>0.500</td>\n",
              "      <td>0.0</td>\n",
              "      <td>0.000</td>\n",
              "      <td>0.103174</td>\n",
              "      <td>53.402840</td>\n",
              "      <td>r</td>\n",
              "    </tr>\n",
              "    <tr>\n",
              "      <th>65325</th>\n",
              "      <td>206</td>\n",
              "      <td>659</td>\n",
              "      <td>608</td>\n",
              "      <td>27</td>\n",
              "      <td>1</td>\n",
              "      <td>0</td>\n",
              "      <td>77</td>\n",
              "      <td>0.000000</td>\n",
              "      <td>0.333</td>\n",
              "      <td>25.549999</td>\n",
              "      <td>0.53</td>\n",
              "      <td>0.222</td>\n",
              "      <td>0.222</td>\n",
              "      <td>0.0</td>\n",
              "      <td>0.167</td>\n",
              "      <td>0.017505</td>\n",
              "      <td>604.981445</td>\n",
              "      <td>r</td>\n",
              "    </tr>\n",
              "  </tbody>\n",
              "</table>\n",
              "<p>65326 rows × 18 columns</p>\n",
              "</div>\n",
              "    <div class=\"colab-df-buttons\">\n",
              "\n",
              "  <div class=\"colab-df-container\">\n",
              "    <button class=\"colab-df-convert\" onclick=\"convertToInteractive('df-09e1172c-ea05-4210-927c-2682da84596f')\"\n",
              "            title=\"Convert this dataframe to an interactive table.\"\n",
              "            style=\"display:none;\">\n",
              "\n",
              "  <svg xmlns=\"http://www.w3.org/2000/svg\" height=\"24px\" viewBox=\"0 -960 960 960\">\n",
              "    <path d=\"M120-120v-720h720v720H120Zm60-500h600v-160H180v160Zm220 220h160v-160H400v160Zm0 220h160v-160H400v160ZM180-400h160v-160H180v160Zm440 0h160v-160H620v160ZM180-180h160v-160H180v160Zm440 0h160v-160H620v160Z\"/>\n",
              "  </svg>\n",
              "    </button>\n",
              "\n",
              "  <style>\n",
              "    .colab-df-container {\n",
              "      display:flex;\n",
              "      gap: 12px;\n",
              "    }\n",
              "\n",
              "    .colab-df-convert {\n",
              "      background-color: #E8F0FE;\n",
              "      border: none;\n",
              "      border-radius: 50%;\n",
              "      cursor: pointer;\n",
              "      display: none;\n",
              "      fill: #1967D2;\n",
              "      height: 32px;\n",
              "      padding: 0 0 0 0;\n",
              "      width: 32px;\n",
              "    }\n",
              "\n",
              "    .colab-df-convert:hover {\n",
              "      background-color: #E2EBFA;\n",
              "      box-shadow: 0px 1px 2px rgba(60, 64, 67, 0.3), 0px 1px 3px 1px rgba(60, 64, 67, 0.15);\n",
              "      fill: #174EA6;\n",
              "    }\n",
              "\n",
              "    .colab-df-buttons div {\n",
              "      margin-bottom: 4px;\n",
              "    }\n",
              "\n",
              "    [theme=dark] .colab-df-convert {\n",
              "      background-color: #3B4455;\n",
              "      fill: #D2E3FC;\n",
              "    }\n",
              "\n",
              "    [theme=dark] .colab-df-convert:hover {\n",
              "      background-color: #434B5C;\n",
              "      box-shadow: 0px 1px 3px 1px rgba(0, 0, 0, 0.15);\n",
              "      filter: drop-shadow(0px 1px 2px rgba(0, 0, 0, 0.3));\n",
              "      fill: #FFFFFF;\n",
              "    }\n",
              "  </style>\n",
              "\n",
              "    <script>\n",
              "      const buttonEl =\n",
              "        document.querySelector('#df-09e1172c-ea05-4210-927c-2682da84596f button.colab-df-convert');\n",
              "      buttonEl.style.display =\n",
              "        google.colab.kernel.accessAllowed ? 'block' : 'none';\n",
              "\n",
              "      async function convertToInteractive(key) {\n",
              "        const element = document.querySelector('#df-09e1172c-ea05-4210-927c-2682da84596f');\n",
              "        const dataTable =\n",
              "          await google.colab.kernel.invokeFunction('convertToInteractive',\n",
              "                                                    [key], {});\n",
              "        if (!dataTable) return;\n",
              "\n",
              "        const docLinkHtml = 'Like what you see? Visit the ' +\n",
              "          '<a target=\"_blank\" href=https://colab.research.google.com/notebooks/data_table.ipynb>data table notebook</a>'\n",
              "          + ' to learn more about interactive tables.';\n",
              "        element.innerHTML = '';\n",
              "        dataTable['output_type'] = 'display_data';\n",
              "        await google.colab.output.renderOutput(dataTable, element);\n",
              "        const docLink = document.createElement('div');\n",
              "        docLink.innerHTML = docLinkHtml;\n",
              "        element.appendChild(docLink);\n",
              "      }\n",
              "    </script>\n",
              "  </div>\n",
              "\n",
              "\n",
              "    <div id=\"df-62d15ce8-6537-420d-bf1a-d74bc86dd3f0\">\n",
              "      <button class=\"colab-df-quickchart\" onclick=\"quickchart('df-62d15ce8-6537-420d-bf1a-d74bc86dd3f0')\"\n",
              "                title=\"Suggest charts\"\n",
              "                style=\"display:none;\">\n",
              "\n",
              "<svg xmlns=\"http://www.w3.org/2000/svg\" height=\"24px\"viewBox=\"0 0 24 24\"\n",
              "     width=\"24px\">\n",
              "    <g>\n",
              "        <path d=\"M19 3H5c-1.1 0-2 .9-2 2v14c0 1.1.9 2 2 2h14c1.1 0 2-.9 2-2V5c0-1.1-.9-2-2-2zM9 17H7v-7h2v7zm4 0h-2V7h2v10zm4 0h-2v-4h2v4z\"/>\n",
              "    </g>\n",
              "</svg>\n",
              "      </button>\n",
              "\n",
              "<style>\n",
              "  .colab-df-quickchart {\n",
              "      --bg-color: #E8F0FE;\n",
              "      --fill-color: #1967D2;\n",
              "      --hover-bg-color: #E2EBFA;\n",
              "      --hover-fill-color: #174EA6;\n",
              "      --disabled-fill-color: #AAA;\n",
              "      --disabled-bg-color: #DDD;\n",
              "  }\n",
              "\n",
              "  [theme=dark] .colab-df-quickchart {\n",
              "      --bg-color: #3B4455;\n",
              "      --fill-color: #D2E3FC;\n",
              "      --hover-bg-color: #434B5C;\n",
              "      --hover-fill-color: #FFFFFF;\n",
              "      --disabled-bg-color: #3B4455;\n",
              "      --disabled-fill-color: #666;\n",
              "  }\n",
              "\n",
              "  .colab-df-quickchart {\n",
              "    background-color: var(--bg-color);\n",
              "    border: none;\n",
              "    border-radius: 50%;\n",
              "    cursor: pointer;\n",
              "    display: none;\n",
              "    fill: var(--fill-color);\n",
              "    height: 32px;\n",
              "    padding: 0;\n",
              "    width: 32px;\n",
              "  }\n",
              "\n",
              "  .colab-df-quickchart:hover {\n",
              "    background-color: var(--hover-bg-color);\n",
              "    box-shadow: 0 1px 2px rgba(60, 64, 67, 0.3), 0 1px 3px 1px rgba(60, 64, 67, 0.15);\n",
              "    fill: var(--button-hover-fill-color);\n",
              "  }\n",
              "\n",
              "  .colab-df-quickchart-complete:disabled,\n",
              "  .colab-df-quickchart-complete:disabled:hover {\n",
              "    background-color: var(--disabled-bg-color);\n",
              "    fill: var(--disabled-fill-color);\n",
              "    box-shadow: none;\n",
              "  }\n",
              "\n",
              "  .colab-df-spinner {\n",
              "    border: 2px solid var(--fill-color);\n",
              "    border-color: transparent;\n",
              "    border-bottom-color: var(--fill-color);\n",
              "    animation:\n",
              "      spin 1s steps(1) infinite;\n",
              "  }\n",
              "\n",
              "  @keyframes spin {\n",
              "    0% {\n",
              "      border-color: transparent;\n",
              "      border-bottom-color: var(--fill-color);\n",
              "      border-left-color: var(--fill-color);\n",
              "    }\n",
              "    20% {\n",
              "      border-color: transparent;\n",
              "      border-left-color: var(--fill-color);\n",
              "      border-top-color: var(--fill-color);\n",
              "    }\n",
              "    30% {\n",
              "      border-color: transparent;\n",
              "      border-left-color: var(--fill-color);\n",
              "      border-top-color: var(--fill-color);\n",
              "      border-right-color: var(--fill-color);\n",
              "    }\n",
              "    40% {\n",
              "      border-color: transparent;\n",
              "      border-right-color: var(--fill-color);\n",
              "      border-top-color: var(--fill-color);\n",
              "    }\n",
              "    60% {\n",
              "      border-color: transparent;\n",
              "      border-right-color: var(--fill-color);\n",
              "    }\n",
              "    80% {\n",
              "      border-color: transparent;\n",
              "      border-right-color: var(--fill-color);\n",
              "      border-bottom-color: var(--fill-color);\n",
              "    }\n",
              "    90% {\n",
              "      border-color: transparent;\n",
              "      border-bottom-color: var(--fill-color);\n",
              "    }\n",
              "  }\n",
              "</style>\n",
              "\n",
              "      <script>\n",
              "        async function quickchart(key) {\n",
              "          const quickchartButtonEl =\n",
              "            document.querySelector('#' + key + ' button');\n",
              "          quickchartButtonEl.disabled = true;  // To prevent multiple clicks.\n",
              "          quickchartButtonEl.classList.add('colab-df-spinner');\n",
              "          try {\n",
              "            const charts = await google.colab.kernel.invokeFunction(\n",
              "                'suggestCharts', [key], {});\n",
              "          } catch (error) {\n",
              "            console.error('Error during call to suggestCharts:', error);\n",
              "          }\n",
              "          quickchartButtonEl.classList.remove('colab-df-spinner');\n",
              "          quickchartButtonEl.classList.add('colab-df-quickchart-complete');\n",
              "        }\n",
              "        (() => {\n",
              "          let quickchartButtonEl =\n",
              "            document.querySelector('#df-62d15ce8-6537-420d-bf1a-d74bc86dd3f0 button');\n",
              "          quickchartButtonEl.style.display =\n",
              "            google.colab.kernel.accessAllowed ? 'block' : 'none';\n",
              "        })();\n",
              "      </script>\n",
              "    </div>\n",
              "\n",
              "  <div id=\"id_ca7b6439-c7fd-4095-bec4-e4252f7fe6b0\">\n",
              "    <style>\n",
              "      .colab-df-generate {\n",
              "        background-color: #E8F0FE;\n",
              "        border: none;\n",
              "        border-radius: 50%;\n",
              "        cursor: pointer;\n",
              "        display: none;\n",
              "        fill: #1967D2;\n",
              "        height: 32px;\n",
              "        padding: 0 0 0 0;\n",
              "        width: 32px;\n",
              "      }\n",
              "\n",
              "      .colab-df-generate:hover {\n",
              "        background-color: #E2EBFA;\n",
              "        box-shadow: 0px 1px 2px rgba(60, 64, 67, 0.3), 0px 1px 3px 1px rgba(60, 64, 67, 0.15);\n",
              "        fill: #174EA6;\n",
              "      }\n",
              "\n",
              "      [theme=dark] .colab-df-generate {\n",
              "        background-color: #3B4455;\n",
              "        fill: #D2E3FC;\n",
              "      }\n",
              "\n",
              "      [theme=dark] .colab-df-generate:hover {\n",
              "        background-color: #434B5C;\n",
              "        box-shadow: 0px 1px 3px 1px rgba(0, 0, 0, 0.15);\n",
              "        filter: drop-shadow(0px 1px 2px rgba(0, 0, 0, 0.3));\n",
              "        fill: #FFFFFF;\n",
              "      }\n",
              "    </style>\n",
              "    <button class=\"colab-df-generate\" onclick=\"generateWithVariable('df')\"\n",
              "            title=\"Generate code using this dataframe.\"\n",
              "            style=\"display:none;\">\n",
              "\n",
              "  <svg xmlns=\"http://www.w3.org/2000/svg\" height=\"24px\"viewBox=\"0 0 24 24\"\n",
              "       width=\"24px\">\n",
              "    <path d=\"M7,19H8.4L18.45,9,17,7.55,7,17.6ZM5,21V16.75L18.45,3.32a2,2,0,0,1,2.83,0l1.4,1.43a1.91,1.91,0,0,1,.58,1.4,1.91,1.91,0,0,1-.58,1.4L9.25,21ZM18.45,9,17,7.55Zm-12,3A5.31,5.31,0,0,0,4.9,8.1,5.31,5.31,0,0,0,1,6.5,5.31,5.31,0,0,0,4.9,4.9,5.31,5.31,0,0,0,6.5,1,5.31,5.31,0,0,0,8.1,4.9,5.31,5.31,0,0,0,12,6.5,5.46,5.46,0,0,0,6.5,12Z\"/>\n",
              "  </svg>\n",
              "    </button>\n",
              "    <script>\n",
              "      (() => {\n",
              "      const buttonEl =\n",
              "        document.querySelector('#id_ca7b6439-c7fd-4095-bec4-e4252f7fe6b0 button.colab-df-generate');\n",
              "      buttonEl.style.display =\n",
              "        google.colab.kernel.accessAllowed ? 'block' : 'none';\n",
              "\n",
              "      buttonEl.onclick = () => {\n",
              "        google.colab.notebook.generateWithVariable('df');\n",
              "      }\n",
              "      })();\n",
              "    </script>\n",
              "  </div>\n",
              "\n",
              "    </div>\n",
              "  </div>\n"
            ],
            "application/vnd.google.colaboratory.intrinsic+json": {
              "type": "dataframe",
              "variable_name": "df",
              "summary": "{\n  \"name\": \"df\",\n  \"rows\": 65326,\n  \"fields\": [\n    {\n      \"column\": \"pos\",\n      \"properties\": {\n        \"dtype\": \"number\",\n        \"std\": 723,\n        \"min\": 0,\n        \"max\": 76200,\n        \"num_unique_values\": 1110,\n        \"samples\": [\n          621,\n          262,\n          257\n        ],\n        \"semantic_type\": \"\",\n        \"description\": \"\"\n      }\n    },\n    {\n      \"column\": \"flw\",\n      \"properties\": {\n        \"dtype\": \"number\",\n        \"std\": 21708,\n        \"min\": 0,\n        \"max\": 3900000,\n        \"num_unique_values\": 1411,\n        \"samples\": [\n          102,\n          774,\n          39500\n        ],\n        \"semantic_type\": \"\",\n        \"description\": \"\"\n      }\n    },\n    {\n      \"column\": \"flg\",\n      \"properties\": {\n        \"dtype\": \"number\",\n        \"std\": 2592,\n        \"min\": 0,\n        \"max\": 8800,\n        \"num_unique_values\": 1071,\n        \"samples\": [\n          766,\n          447,\n          947\n        ],\n        \"semantic_type\": \"\",\n        \"description\": \"\"\n      }\n    },\n    {\n      \"column\": \"bl\",\n      \"properties\": {\n        \"dtype\": \"number\",\n        \"std\": 64,\n        \"min\": 0,\n        \"max\": 555,\n        \"num_unique_values\": 375,\n        \"samples\": [\n          87,\n          13,\n          62\n        ],\n        \"semantic_type\": \"\",\n        \"description\": \"\"\n      }\n    },\n    {\n      \"column\": \"pic\",\n      \"properties\": {\n        \"dtype\": \"number\",\n        \"std\": 0,\n        \"min\": 0,\n        \"max\": 1,\n        \"num_unique_values\": 2,\n        \"samples\": [\n          0,\n          1\n        ],\n        \"semantic_type\": \"\",\n        \"description\": \"\"\n      }\n    },\n    {\n      \"column\": \"lin\",\n      \"properties\": {\n        \"dtype\": \"number\",\n        \"std\": 0,\n        \"min\": 0,\n        \"max\": 1,\n        \"num_unique_values\": 2,\n        \"samples\": [\n          1,\n          0\n        ],\n        \"semantic_type\": \"\",\n        \"description\": \"\"\n      }\n    },\n    {\n      \"column\": \"cl\",\n      \"properties\": {\n        \"dtype\": \"number\",\n        \"std\": 215,\n        \"min\": -1,\n        \"max\": 3644,\n        \"num_unique_values\": 1391,\n        \"samples\": [\n          947,\n          433\n        ],\n        \"semantic_type\": \"\",\n        \"description\": \"\"\n      }\n    },\n    {\n      \"column\": \"cz\",\n      \"properties\": {\n        \"dtype\": \"number\",\n        \"std\": 0.33789056531270706,\n        \"min\": 0.0,\n        \"max\": 1.0,\n        \"num_unique_values\": 189,\n        \"samples\": [\n          0.1470588297,\n          0.4571428597\n        ],\n        \"semantic_type\": \"\",\n        \"description\": \"\"\n      }\n    },\n    {\n      \"column\": \"ni\",\n      \"properties\": {\n        \"dtype\": \"number\",\n        \"std\": 0.25293925063246936,\n        \"min\": 0.0,\n        \"max\": 1.0,\n        \"num_unique_values\": 224,\n        \"samples\": [\n          0.3330000043,\n          0.8460000157\n        ],\n        \"semantic_type\": \"\",\n        \"description\": \"\"\n      }\n    },\n    {\n      \"column\": \"erl\",\n      \"properties\": {\n        \"dtype\": \"number\",\n        \"std\": 121.04757029838937,\n        \"min\": 0.0,\n        \"max\": 26650.0,\n        \"num_unique_values\": 7454,\n        \"samples\": [\n          143.97999573,\n          5.8200001717\n        ],\n        \"semantic_type\": \"\",\n        \"description\": \"\"\n      }\n    },\n    {\n      \"column\": \"erc\",\n      \"properties\": {\n        \"dtype\": \"number\",\n        \"std\": 5.8106273188220285,\n        \"min\": 0.0,\n        \"max\": 1009.0900269,\n        \"num_unique_values\": 1319,\n        \"samples\": [\n          9.6899995804,\n          7.7199997902\n        ],\n        \"semantic_type\": \"\",\n        \"description\": \"\"\n      }\n    },\n    {\n      \"column\": \"lt\",\n      \"properties\": {\n        \"dtype\": \"number\",\n        \"std\": 0.30036233040021054,\n        \"min\": 0.0,\n        \"max\": 1.0,\n        \"num_unique_values\": 211,\n        \"samples\": [\n          0.0769999996,\n          0.8529999852\n        ],\n        \"semantic_type\": \"\",\n        \"description\": \"\"\n      }\n    },\n    {\n      \"column\": \"hc\",\n      \"properties\": {\n        \"dtype\": \"number\",\n        \"std\": 1.1569208369800454,\n        \"min\": 0.0,\n        \"max\": 30.0,\n        \"num_unique_values\": 698,\n        \"samples\": [\n          4.1669998169,\n          3.1760001183\n        ],\n        \"semantic_type\": \"\",\n        \"description\": \"\"\n      }\n    },\n    {\n      \"column\": \"pr\",\n      \"properties\": {\n        \"dtype\": \"number\",\n        \"std\": 0.2209873749488803,\n        \"min\": 0.0,\n        \"max\": 20.0,\n        \"num_unique_values\": 199,\n        \"samples\": [\n          11.0,\n          0.8889999986\n        ],\n        \"semantic_type\": \"\",\n        \"description\": \"\"\n      }\n    },\n    {\n      \"column\": \"fo\",\n      \"properties\": {\n        \"dtype\": \"number\",\n        \"std\": 0.519057777052303,\n        \"min\": 0.0,\n        \"max\": 58.0,\n        \"num_unique_values\": 304,\n        \"samples\": [\n          11.0,\n          0.7689999938\n        ],\n        \"semantic_type\": \"\",\n        \"description\": \"\"\n      }\n    },\n    {\n      \"column\": \"cs\",\n      \"properties\": {\n        \"dtype\": \"number\",\n        \"std\": 0.34960416348280576,\n        \"min\": 0.0,\n        \"max\": 1.0,\n        \"num_unique_values\": 38482,\n        \"samples\": [\n          0.5138059855,\n          0.19912\n        ],\n        \"semantic_type\": \"\",\n        \"description\": \"\"\n      }\n    },\n    {\n      \"column\": \"pi\",\n      \"properties\": {\n        \"dtype\": \"number\",\n        \"std\": 944.9053892828756,\n        \"min\": 0.0,\n        \"max\": 26786.134766,\n        \"num_unique_values\": 55927,\n        \"samples\": [\n          1620.2001953,\n          507.62573242\n        ],\n        \"semantic_type\": \"\",\n        \"description\": \"\"\n      }\n    },\n    {\n      \"column\": \"class\",\n      \"properties\": {\n        \"dtype\": \"category\",\n        \"num_unique_values\": 2,\n        \"samples\": [\n          \"r\",\n          \"f\"\n        ],\n        \"semantic_type\": \"\",\n        \"description\": \"\"\n      }\n    }\n  ]\n}"
            }
          },
          "metadata": {},
          "execution_count": 6
        }
      ],
      "source": [
        "# write your code here ^_^\n",
        "df = pd.read_csv('instagram_users.csv')\n",
        "df"
      ]
    },
    {
      "cell_type": "markdown",
      "id": "e4a55d46",
      "metadata": {
        "id": "e4a55d46"
      },
      "source": [
        "# Q3: Print the number of rows and columns contained in the dataset"
      ]
    },
    {
      "cell_type": "code",
      "execution_count": null,
      "id": "f8052b2d",
      "metadata": {
        "id": "f8052b2d",
        "colab": {
          "base_uri": "https://localhost:8080/"
        },
        "outputId": "625d296b-8520-455f-955f-6a45c3027ea4"
      },
      "outputs": [
        {
          "output_type": "stream",
          "name": "stdout",
          "text": [
            "(65326, 18)\n"
          ]
        }
      ],
      "source": [
        "# write your code here ^_^\n",
        "print(df.shape) #rows, culumn"
      ]
    },
    {
      "cell_type": "markdown",
      "id": "321e2cf3",
      "metadata": {
        "id": "321e2cf3"
      },
      "source": [
        "# Q4: Print the size of dataset"
      ]
    },
    {
      "cell_type": "code",
      "execution_count": null,
      "id": "94a2f530",
      "metadata": {
        "id": "94a2f530",
        "colab": {
          "base_uri": "https://localhost:8080/"
        },
        "outputId": "e3eef53f-a801-4866-dbea-e4285b28bd3d"
      },
      "outputs": [
        {
          "output_type": "stream",
          "name": "stdout",
          "text": [
            "1175868\n"
          ]
        }
      ],
      "source": [
        "# write your code here ^_^\n",
        "print(df.size)"
      ]
    },
    {
      "cell_type": "markdown",
      "id": "b522cc01",
      "metadata": {
        "id": "b522cc01"
      },
      "source": [
        "# Q5: Print the data type of each column"
      ]
    },
    {
      "cell_type": "code",
      "execution_count": null,
      "id": "5e42df5a",
      "metadata": {
        "id": "5e42df5a",
        "colab": {
          "base_uri": "https://localhost:8080/"
        },
        "outputId": "f185befe-57c9-4ded-fce4-223cc5377ff4"
      },
      "outputs": [
        {
          "output_type": "stream",
          "name": "stdout",
          "text": [
            "pos        int64\n",
            "flw        int64\n",
            "flg        int64\n",
            "bl         int64\n",
            "pic        int64\n",
            "lin        int64\n",
            "cl         int64\n",
            "cz       float64\n",
            "ni       float64\n",
            "erl      float64\n",
            "erc      float64\n",
            "lt       float64\n",
            "hc       float64\n",
            "pr       float64\n",
            "fo       float64\n",
            "cs       float64\n",
            "pi       float64\n",
            "class     object\n",
            "dtype: object\n"
          ]
        }
      ],
      "source": [
        "# write your code here ^_^\n",
        "print(df.dtypes)"
      ]
    },
    {
      "cell_type": "markdown",
      "id": "ce0bd348",
      "metadata": {
        "id": "ce0bd348"
      },
      "source": [
        "# Q6: Print the entire dataset\n",
        "Note: if your dataset contains more than 60 rows, only the first 5 rows and the last 5 rows will be printed."
      ]
    },
    {
      "cell_type": "code",
      "execution_count": null,
      "id": "2651fc51",
      "metadata": {
        "id": "2651fc51",
        "colab": {
          "base_uri": "https://localhost:8080/"
        },
        "outputId": "6eda1321-4028-4992-d023-ee9fe831ea35"
      },
      "outputs": [
        {
          "output_type": "stream",
          "name": "stdout",
          "text": [
            "        pos   flw   flg   bl  pic  lin   cl        cz     ni        erl   erc  \\\n",
            "0        44    48   325   33    1    0   12  0.000000  0.000   0.000000  0.00   \n",
            "1        10    66   321  150    1    0  213  0.000000  1.000  14.390000  1.97   \n",
            "2        33   970   308  101    1    1  436  0.000000  1.000  10.100000  0.30   \n",
            "3        70    86   360   14    1    0    0  1.000000  0.000   0.780000  0.06   \n",
            "4         3    21   285   73    1    0   93  0.000000  0.000  14.290000  0.00   \n",
            "...     ...   ...   ...  ...  ...  ...  ...       ...    ...        ...   ...   \n",
            "65321    13   145   642    0    1    0    7  0.461538  0.000  14.270000  0.58   \n",
            "65322   652  3000  1300  146    1    1  384  0.000000  0.389   8.520000  0.13   \n",
            "65323  1500  3700  3200  147    1    1  129  0.000000  0.111   9.390000  0.31   \n",
            "65324   329  1500  1800  218    1    1  290  0.055556  0.000   6.350000  0.26   \n",
            "65325   206   659   608   27    1    0   77  0.000000  0.333  25.549999  0.53   \n",
            "\n",
            "          lt     hc   pr     fo        cs           pi class  \n",
            "0      0.000  0.000  0.0  0.000  0.111111     0.094985     f  \n",
            "1      0.000  1.500  0.0  0.000  0.206826   230.412857     f  \n",
            "2      0.000  2.500  0.0  0.056  0.572174    43.569939     f  \n",
            "3      0.000  0.000  0.0  0.000  1.000000     5.859799     f  \n",
            "4      0.667  0.000  0.0  0.000  0.300494     0.126019     f  \n",
            "...      ...    ...  ...    ...       ...          ...   ...  \n",
            "65321  0.000  0.077  0.0  0.000  0.192308  1745.291260     r  \n",
            "65322  0.000  1.611  0.0  0.000  0.169917    54.629120     r  \n",
            "65323  0.722  0.000  0.0  0.056  0.058908   129.802048     r  \n",
            "65324  0.222  0.500  0.0  0.000  0.103174    53.402840     r  \n",
            "65325  0.222  0.222  0.0  0.167  0.017505   604.981445     r  \n",
            "\n",
            "[65326 rows x 18 columns]\n"
          ]
        }
      ],
      "source": [
        "# write your code here ^_^\n",
        "print(df)"
      ]
    },
    {
      "cell_type": "markdown",
      "id": "0467233d",
      "metadata": {
        "id": "0467233d"
      },
      "source": [
        "# Q7: Print the first 5 rows"
      ]
    },
    {
      "cell_type": "code",
      "execution_count": null,
      "id": "d74487c7",
      "metadata": {
        "id": "d74487c7",
        "colab": {
          "base_uri": "https://localhost:8080/"
        },
        "outputId": "31960b73-31fd-4705-cdcb-5bbd326ef92b"
      },
      "outputs": [
        {
          "output_type": "stream",
          "name": "stdout",
          "text": [
            "   pos  flw  flg   bl  pic  lin   cl   cz   ni    erl   erc     lt   hc   pr  \\\n",
            "0   44   48  325   33    1    0   12  0.0  0.0   0.00  0.00  0.000  0.0  0.0   \n",
            "1   10   66  321  150    1    0  213  0.0  1.0  14.39  1.97  0.000  1.5  0.0   \n",
            "2   33  970  308  101    1    1  436  0.0  1.0  10.10  0.30  0.000  2.5  0.0   \n",
            "3   70   86  360   14    1    0    0  1.0  0.0   0.78  0.06  0.000  0.0  0.0   \n",
            "4    3   21  285   73    1    0   93  0.0  0.0  14.29  0.00  0.667  0.0  0.0   \n",
            "\n",
            "      fo        cs          pi class  \n",
            "0  0.000  0.111111    0.094985     f  \n",
            "1  0.000  0.206826  230.412857     f  \n",
            "2  0.056  0.572174   43.569939     f  \n",
            "3  0.000  1.000000    5.859799     f  \n",
            "4  0.000  0.300494    0.126019     f  \n"
          ]
        }
      ],
      "source": [
        "# write your code here ^_^\n",
        "print(df.head(5))"
      ]
    },
    {
      "cell_type": "markdown",
      "id": "caad024d",
      "metadata": {
        "id": "caad024d"
      },
      "source": [
        "# Q8: Print the last 5 rows"
      ]
    },
    {
      "cell_type": "code",
      "execution_count": null,
      "id": "39d40478",
      "metadata": {
        "id": "39d40478",
        "colab": {
          "base_uri": "https://localhost:8080/"
        },
        "outputId": "e7f8061d-1d58-420a-f6cf-57fdc9ecdf84"
      },
      "outputs": [
        {
          "output_type": "stream",
          "name": "stdout",
          "text": [
            "        pos   flw   flg   bl  pic  lin   cl        cz     ni        erl   erc  \\\n",
            "65321    13   145   642    0    1    0    7  0.461538  0.000  14.270000  0.58   \n",
            "65322   652  3000  1300  146    1    1  384  0.000000  0.389   8.520000  0.13   \n",
            "65323  1500  3700  3200  147    1    1  129  0.000000  0.111   9.390000  0.31   \n",
            "65324   329  1500  1800  218    1    1  290  0.055556  0.000   6.350000  0.26   \n",
            "65325   206   659   608   27    1    0   77  0.000000  0.333  25.549999  0.53   \n",
            "\n",
            "          lt     hc   pr     fo        cs           pi class  \n",
            "65321  0.000  0.077  0.0  0.000  0.192308  1745.291260     r  \n",
            "65322  0.000  1.611  0.0  0.000  0.169917    54.629120     r  \n",
            "65323  0.722  0.000  0.0  0.056  0.058908   129.802048     r  \n",
            "65324  0.222  0.500  0.0  0.000  0.103174    53.402840     r  \n",
            "65325  0.222  0.222  0.0  0.167  0.017505   604.981445     r  \n"
          ]
        }
      ],
      "source": [
        "# write your code here ^_^\n",
        "print(df.tail(5))"
      ]
    },
    {
      "cell_type": "markdown",
      "id": "3b7464bb",
      "metadata": {
        "id": "3b7464bb"
      },
      "source": [
        "# Q9: Print the count, mean, std, min, 25%, 50%, 75% and the max for each column"
      ]
    },
    {
      "cell_type": "code",
      "execution_count": null,
      "id": "033b7757",
      "metadata": {
        "id": "033b7757",
        "colab": {
          "base_uri": "https://localhost:8080/"
        },
        "outputId": "7fc1cea7-61f6-4947-db6b-2f76bd49e6f5"
      },
      "outputs": [
        {
          "output_type": "stream",
          "name": "stdout",
          "text": [
            "                pos           flw           flg            bl           pic  \\\n",
            "count  65326.000000  6.532600e+04  65326.000000  65326.000000  65326.000000   \n",
            "mean     176.571227  1.183077e+03   2310.519211     57.497061      0.951765   \n",
            "std      723.470655  2.170802e+04   2592.096104     64.129260      0.214264   \n",
            "min        0.000000  0.000000e+00      0.000000      0.000000      0.000000   \n",
            "25%        6.000000  1.230000e+02    394.000000      0.000000      1.000000   \n",
            "50%       30.000000  3.380000e+02    995.000000     32.000000      1.000000   \n",
            "75%      124.000000  8.170000e+02   3600.000000    110.000000      1.000000   \n",
            "max    76200.000000  3.900000e+06   8800.000000    555.000000      1.000000   \n",
            "\n",
            "                lin            cl            cz            ni           erl  \\\n",
            "count  65326.000000  65326.000000  65326.000000  65326.000000  65326.000000   \n",
            "mean       0.281925    136.520344      0.250012      0.193229     19.146641   \n",
            "std        0.449940    215.714486      0.337891      0.252939    121.047570   \n",
            "min        0.000000     -1.000000      0.000000      0.000000      0.000000   \n",
            "25%        0.000000      8.000000      0.000000      0.000000      2.730000   \n",
            "50%        0.000000     46.000000      0.055556      0.059000      9.450000   \n",
            "75%        1.000000    170.000000      0.444444      0.333000     18.680000   \n",
            "max        1.000000   3644.000000      1.000000      1.000000  26650.000000   \n",
            "\n",
            "                erc            lt            hc            pr            fo  \\\n",
            "count  65326.000000  65326.000000  65326.000000  65326.000000  65326.000000   \n",
            "mean       1.139421      0.208877      0.507796      0.032745      0.052837   \n",
            "std        5.810627      0.300362      1.156921      0.220987      0.519058   \n",
            "min        0.000000      0.000000      0.000000      0.000000      0.000000   \n",
            "25%        0.080000      0.000000      0.000000      0.000000      0.000000   \n",
            "50%        0.440000      0.000000      0.077000      0.000000      0.000000   \n",
            "75%        1.040000      0.333000      0.611000      0.000000      0.000000   \n",
            "max     1009.090027      1.000000     30.000000     20.000000     58.000000   \n",
            "\n",
            "                 cs            pi  \n",
            "count  65326.000000  65326.000000  \n",
            "mean       0.299098    496.475193  \n",
            "std        0.349604    944.905389  \n",
            "min        0.000000      0.000000  \n",
            "25%        0.033327     24.571458  \n",
            "50%        0.136915    183.227943  \n",
            "75%        0.456342    580.771927  \n",
            "max        1.000000  26786.134766  \n"
          ]
        }
      ],
      "source": [
        "# write your code here ^_^\n",
        "print(df.describe())"
      ]
    },
    {
      "cell_type": "code",
      "source": [
        "from IPython.display import HTML, display\n",
        "display(HTML(\"<h3 style='color: green;'>Assignment3 Done! ＼(＾▽＾)／ </h3>\"))"
      ],
      "metadata": {
        "colab": {
          "base_uri": "https://localhost:8080/",
          "height": 58
        },
        "id": "YtrHmIRlYXzD",
        "outputId": "521333cb-7b10-4665-bc08-52d208dc6575"
      },
      "id": "YtrHmIRlYXzD",
      "execution_count": null,
      "outputs": [
        {
          "output_type": "display_data",
          "data": {
            "text/plain": [
              "<IPython.core.display.HTML object>"
            ],
            "text/html": [
              "<h3 style='color: green;'>Assignment3 Done! ＼(＾▽＾)／ </h3>"
            ]
          },
          "metadata": {}
        }
      ]
    }
  ],
  "metadata": {
    "kernelspec": {
      "display_name": "Python 3 (ipykernel)",
      "language": "python",
      "name": "python3"
    },
    "language_info": {
      "codemirror_mode": {
        "name": "ipython",
        "version": 3
      },
      "file_extension": ".py",
      "mimetype": "text/x-python",
      "name": "python",
      "nbconvert_exporter": "python",
      "pygments_lexer": "ipython3",
      "version": "3.9.12"
    },
    "colab": {
      "provenance": []
    }
  },
  "nbformat": 4,
  "nbformat_minor": 5
}