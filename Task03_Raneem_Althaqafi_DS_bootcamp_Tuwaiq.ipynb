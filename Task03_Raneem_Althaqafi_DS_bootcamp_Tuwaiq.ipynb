{
  "nbformat": 4,
  "nbformat_minor": 0,
  "metadata": {
    "colab": {
      "provenance": []
    },
    "kernelspec": {
      "name": "python3",
      "display_name": "Python 3"
    },
    "language_info": {
      "name": "python"
    }
  },
  "cells": [
    {
      "cell_type": "code",
      "execution_count": 5,
      "metadata": {
        "colab": {
          "base_uri": "https://localhost:8080/",
          "height": 249
        },
        "id": "kRUKOFJ8JO4z",
        "outputId": "e5497d49-ecd2-4c3a-d21d-851e0df2afac"
      },
      "outputs": [
        {
          "output_type": "stream",
          "name": "stdout",
          "text": [
            "First 3 letters of each name:\n",
            "Ali\n",
            "Bob\n",
            "Cha\n",
            "\n",
            "Original list:\n",
            "['Alice', 'Bob', 'Charlie']\n",
            "Shallow copy list:\n",
            "['Raneem', 'Bob', 'Charlie']\n",
            "Deep copy list:\n",
            "['Alice', 'Bob', 'Charlie']\n"
          ]
        },
        {
          "output_type": "display_data",
          "data": {
            "text/plain": [
              "<IPython.core.display.HTML object>"
            ],
            "text/html": [
              "<h3 style='color: green;'>Exercise Done! \t＼(＾▽＾)／ </h3>"
            ]
          },
          "metadata": {}
        }
      ],
      "source": [
        "import copy\n",
        "\n",
        "# 1: list of names\n",
        "names = [\"Alice\", \"Bob\", \"Charlie\"]\n",
        "\n",
        "# 2: slice first 3 letters of each name using for\n",
        "print(\"First 3 letters of each name:\")\n",
        "for name in names:\n",
        "    print(name[:3])\n",
        "\n",
        "# 3: shallow copy\n",
        "shallow_copy = names.copy()\n",
        "\n",
        "# 4: deep copy\n",
        "deep_copy = copy.deepcopy(names)\n",
        "\n",
        "# 5: change one name in shallow copy\n",
        "shallow_copy[0] = \"Raneem\"\n",
        "\n",
        "# 6: see what happens\n",
        "print(\"\\nOriginal list:\")\n",
        "print(names)\n",
        "\n",
        "print(\"Shallow copy list:\")\n",
        "print(shallow_copy)\n",
        "\n",
        "print(\"Deep copy list:\")\n",
        "print(deep_copy)\n",
        "\n",
        "from IPython.display import HTML, display\n",
        "display(HTML(\"<h3 style='color: green;'>Exercise Done! \t＼(＾▽＾)／ </h3>\"))"
      ]
    },
    {
      "cell_type": "markdown",
      "source": [
        "\n",
        "###shallow copy is changed only at index 0\n",
        "###Deep copy stays fully separate\n"
      ],
      "metadata": {
        "id": "FSEeEdoCO8n_"
      }
    }
  ]
}